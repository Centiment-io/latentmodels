{
 "metadata": {
  "name": ""
 },
 "nbformat": 3,
 "nbformat_minor": 0,
 "worksheets": [
  {
   "cells": [
    {
     "cell_type": "markdown",
     "metadata": {},
     "source": [
      "Instructions:\n",
      "\n",
      "For the Tableau plots, I currently read in a tab-delimited file with the following columns, in addition to the media_cloud_{document|metadata}.tab files provided by David/Sands.  For performance reasons, I keep only the top 250,000 entries by value.  The full matrix would require N * M number of rows where M = number of documents, N = number of topics.\n",
      "\n",
      "doc_id: string\n",
      "\n",
      "topic_index: integer between 1 and N (or 0 and N-1)\n",
      "\n",
      "value: float representing the topical proportion for \"topic_index\" in \"doc_id\"\n",
      "\n",
      "topic_desc: string representing the top 5 terms in a topic\n",
      "\n",
      "To reduce file size, please free to strip the field \"topic_desc\" from the above file, and store them separately.  Perhaps as another tab-delimited file with two columns, say:\n",
      "\n",
      "topic_index: integer between 1 and N\n",
      "topic_desc: string representing the top 5 terms in a topic\n"
     ]
    },
    {
     "cell_type": "code",
     "collapsed": false,
     "input": [
      "import os, sys, logging\n",
      "logging.basicConfig(format='%(asctime)s : %(levelname)s : %(message)s', level=logging.INFO)\n",
      "logger = logging.getLogger('Archive.LDA')"
     ],
     "language": "python",
     "metadata": {},
     "outputs": [],
     "prompt_number": 42
    },
    {
     "cell_type": "code",
     "collapsed": false,
     "input": [
      "doctopics_fields = [ \"doc_id\", \"topic_index\", \"value\" ]\n",
      "topicdesc_fields = [ \"topic_index\", \"topic_desc\" ]"
     ],
     "language": "python",
     "metadata": {},
     "outputs": [],
     "prompt_number": 43
    },
    {
     "cell_type": "code",
     "collapsed": false,
     "input": [
      "# filepaths\n",
      "HOME = \"/Users/wli/\"\n",
      "DROPBOX_FOLDER = \"Dropbox/kdd_2014/\"\n",
      "DATA_FOLDER = \"topic_experiments_william/\"\n",
      "DAYS = 90\n",
      "TOPICS = 100\n",
      "\n",
      "EXPERIMENT_NAME = \"gensim_%sdays_%stopics\" % ( DAYS, TOPICS )\n",
      "\n",
      "ARTICLE_IDS = \"article-ids.txt\"\n",
      "DOC_TOPICS = \"doc-topics.txt\"\n",
      "TOPIC_TERMS = \"topic-terms.txt\"\n",
      "\n",
      "OUTPUT_DOC = \"doc_id-topic_index-value.txt\"\n",
      "NUM_ENTRIES = 250000\n",
      "\n",
      "OUTPUT_TOPICDESC = \"topic_index-topic_desc.txt\""
     ],
     "language": "python",
     "metadata": {},
     "outputs": [],
     "prompt_number": 27
    },
    {
     "cell_type": "code",
     "collapsed": false,
     "input": [
      "article_filepath = os.path.join( HOME, DROPBOX_FOLDER, DATA_FOLDER, EXPERIMENT_NAME, EXPERIMENT_NAME + \"-\" + ARTICLE_IDS ) \n",
      "\n",
      "with open( article_filepath ) as f:\n",
      "    article_ids = [ int( i.strip('\\n') ) for i in f.readlines() ]\n"
     ],
     "language": "python",
     "metadata": {},
     "outputs": [],
     "prompt_number": 4
    },
    {
     "cell_type": "code",
     "collapsed": false,
     "input": [
      "doc_topics_filepath = os.path.join( HOME, DROPBOX_FOLDER, DATA_FOLDER, EXPERIMENT_NAME, EXPERIMENT_NAME + \"-\" + DOC_TOPICS )\n",
      "doc_topic_probs = []\n",
      "with open( doc_topics_filepath ) as f:\n",
      "    x = [ i.strip('\\r\\n') for i in f.readlines() ]"
     ],
     "language": "python",
     "metadata": {},
     "outputs": [],
     "prompt_number": 5
    },
    {
     "cell_type": "code",
     "collapsed": false,
     "input": [
      "for line in x:\n",
      "    doc_topic_probs.append( [ float( i ) for i in line.split(',') ] )"
     ],
     "language": "python",
     "metadata": {},
     "outputs": [],
     "prompt_number": 6
    },
    {
     "cell_type": "code",
     "collapsed": false,
     "input": [
      "NUM_TOPICS_TO_KEEP = 4\n",
      "top_doc_topic_probs = []\n",
      "for doc_idx, topic_values in enumerate( doc_topic_probs ):\n",
      "    if doc_idx % 20000 == 0:\n",
      "        sys.stderr.write( \"%s...\" % doc_idx )\n",
      "    idx_topic_values = [ (idx,i) for idx,i in enumerate( topic_values ) ]\n",
      "    idx_topic_values.sort( key=lambda x:x[1], reverse=True )\n",
      "    top_doc_topic_probs.append( idx_topic_values[:NUM_TOPICS_TO_KEEP] ) "
     ],
     "language": "python",
     "metadata": {},
     "outputs": [
      {
       "output_type": "stream",
       "stream": "stderr",
       "text": [
        "0...20000..."
       ]
      },
      {
       "output_type": "stream",
       "stream": "stderr",
       "text": [
        "40000...60000..."
       ]
      },
      {
       "output_type": "stream",
       "stream": "stderr",
       "text": [
        "80000...100000..."
       ]
      },
      {
       "output_type": "stream",
       "stream": "stderr",
       "text": [
        "120000...140000..."
       ]
      },
      {
       "output_type": "stream",
       "stream": "stderr",
       "text": [
        "160000...180000..."
       ]
      },
      {
       "output_type": "stream",
       "stream": "stderr",
       "text": [
        "200000...220000..."
       ]
      },
      {
       "output_type": "stream",
       "stream": "stderr",
       "text": [
        "240000...260000..."
       ]
      },
      {
       "output_type": "stream",
       "stream": "stderr",
       "text": [
        "280000...300000..."
       ]
      },
      {
       "output_type": "stream",
       "stream": "stderr",
       "text": [
        "320000...340000..."
       ]
      },
      {
       "output_type": "stream",
       "stream": "stderr",
       "text": [
        "360000...380000..."
       ]
      },
      {
       "output_type": "stream",
       "stream": "stderr",
       "text": [
        "400000...420000..."
       ]
      }
     ],
     "prompt_number": 44
    },
    {
     "cell_type": "code",
     "collapsed": false,
     "input": [
      "docs_topics_values = []\n",
      "for idx, doc_id in enumerate( article_ids ):\n",
      "    if idx % 20000 == 0:\n",
      "        sys.stderr.write( \"%s...\" % idx )\n",
      "    for topic_index, topic_value in top_doc_topic_probs[idx]:\n",
      "        docs_topics_values.append( ( doc_id, topic_index, topic_value ) )\n",
      "sys.stderr.write( \"done.\\n\" )\n",
      "                "
     ],
     "language": "python",
     "metadata": {},
     "outputs": [
      {
       "output_type": "stream",
       "stream": "stderr",
       "text": [
        "0...20000..."
       ]
      },
      {
       "output_type": "stream",
       "stream": "stderr",
       "text": [
        "40000...60000...80000..."
       ]
      },
      {
       "output_type": "stream",
       "stream": "stderr",
       "text": [
        "100000...120000...140000..."
       ]
      },
      {
       "output_type": "stream",
       "stream": "stderr",
       "text": [
        "160000...180000...200000..."
       ]
      },
      {
       "output_type": "stream",
       "stream": "stderr",
       "text": [
        "220000...240000...260000..."
       ]
      },
      {
       "output_type": "stream",
       "stream": "stderr",
       "text": [
        "280000...300000...320000..."
       ]
      },
      {
       "output_type": "stream",
       "stream": "stderr",
       "text": [
        "340000...360000...380000..."
       ]
      },
      {
       "output_type": "stream",
       "stream": "stderr",
       "text": [
        "400000...420000...done.\n"
       ]
      }
     ],
     "prompt_number": 45
    },
    {
     "cell_type": "code",
     "collapsed": false,
     "input": [
      "docs_topics_values.sort( key=lambda x:x[2], reverse=True )\n"
     ],
     "language": "python",
     "metadata": {},
     "outputs": [],
     "prompt_number": 46
    },
    {
     "cell_type": "code",
     "collapsed": false,
     "input": [
      "output_doc_topic_values_filepath = os.path.join( HOME, DROPBOX_FOLDER, DATA_FOLDER, EXPERIMENT_NAME, \"viz\", EXPERIMENT_NAME + \"-\"\\\n",
      "                                                + OUTPUT_DOC )\n",
      "\n",
      "\n",
      "NUM_ENTRIES = len( docs_topics_values )\n",
      "with open( output_doc_topic_values_filepath, 'wb' ) as f:\n",
      "    f.write( \"\\t\".join( doctopics_fields ) + \"\\n\" )\n",
      "    for i in range( NUM_ENTRIES ):\n",
      "        f.write( \"\\t\".join( [ str(i) for i in docs_topics_values[i] ] ) + \"\\n\" )"
     ],
     "language": "python",
     "metadata": {},
     "outputs": [],
     "prompt_number": 48
    },
    {
     "cell_type": "code",
     "collapsed": false,
     "input": [
      "topicdesc_filepath = os.path.join( HOME, DROPBOX_FOLDER, DATA_FOLDER, EXPERIMENT_NAME, EXPERIMENT_NAME + \"-\" + TOPIC_TERMS )\n",
      "output_topicdesc_filepath = os.path.join( HOME, DROPBOX_FOLDER, DATA_FOLDER, EXPERIMENT_NAME, \"viz\", EXPERIMENT_NAME + \"-\" + OUTPUT_TOPICDESC )\n",
      "\n",
      "output_desc = []\n",
      "\n",
      "with open( topicdesc_filepath ) as f:\n",
      "    x = [ i.strip('\\n') for i in f.readlines() ]\n",
      "    \n",
      "    for line in x:\n",
      "        split_line = line.split(', ')\n",
      "        topic_id = split_line[0]\n",
      "        top_words = \", \".join( split_line[1:6] )\n",
      "        output_desc.append( ( topic_id, top_words ) )\n",
      "        \n",
      "with open( output_topicdesc_filepath, 'wb' ) as f:\n",
      "    f.write( \"\\t\".join( topicdesc_fields ) + \"\\n\" )\n",
      "    for line in output_desc:\n",
      "        f.write( \"\\t\".join( line ) + \"\\n\" )\n",
      "        "
     ],
     "language": "python",
     "metadata": {},
     "outputs": [],
     "prompt_number": 49
    },
    {
     "cell_type": "code",
     "collapsed": false,
     "input": [],
     "language": "python",
     "metadata": {},
     "outputs": []
    }
   ],
   "metadata": {}
  }
 ]
}